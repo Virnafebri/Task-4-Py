{
 "cells": [
  {
   "cell_type": "code",
   "execution_count": null,
   "metadata": {},
   "outputs": [],
   "source": [
    "# DATA PERTAMA\n",
    "import pandas as pd\n",
    "nama = ['Berti', 'Ryndes', 'Arin']\n",
    "tugas = [95,90,75]\n",
    "jurusan = ['IF', 'SI', 'KA']\n",
    "df3 = pd.DataFrame({'Nama':nama, 'Tugas':tugas, 'Jurusan':jurusan})\n",
    "df3"
   ]
  },
  {
   "cell_type": "code",
   "execution_count": null,
   "metadata": {},
   "outputs": [],
   "source": [
    "# DATA KEDUA\n",
    "nama = ['Berti', 'Ryndes', 'Rylo']\n",
    "tugas = [85,84,70]\n",
    "jurusan = ['IF', 'SI', 'SI']\n",
    "df4 = pd.DataFrame({'Nama':nama, 'Tugas':tugas, 'Jurusan':jurusan})\n",
    "df4"
   ]
  },
  {
   "cell_type": "code",
   "execution_count": null,
   "metadata": {},
   "outputs": [],
   "source": [
    "# INNER JOIN\n",
    "df3.join(df4, how='inner')"
   ]
  },
  {
   "cell_type": "code",
   "execution_count": null,
   "metadata": {},
   "outputs": [],
   "source": [
    "# LEFT JOIN\n",
    "df3.join(df4, how='left')"
   ]
  },
  {
   "cell_type": "code",
   "execution_count": null,
   "metadata": {},
   "outputs": [],
   "source": [
    "# RIGHT JOIN\n",
    "df3.join(df4, how='right')"
   ]
  },
  {
   "cell_type": "code",
   "execution_count": null,
   "metadata": {},
   "outputs": [],
   "source": [
    "# OUTER JOIN\n",
    "df3.join(df4, how='outer')"
   ]
  },
  {
   "cell_type": "code",
   "execution_count": null,
   "metadata": {},
   "outputs": [],
   "source": [
    "# Concat\n",
    "pd.concat([df3, df4], sort='False')"
   ]
  }
 ],
 "metadata": {
  "language_info": {
   "name": "python"
  },
  "orig_nbformat": 4
 },
 "nbformat": 4,
 "nbformat_minor": 2
}
