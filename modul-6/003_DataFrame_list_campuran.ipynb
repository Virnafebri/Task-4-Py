{
 "cells": [
  {
   "cell_type": "code",
   "execution_count": 2,
   "metadata": {},
   "outputs": [
    {
     "data": {
      "text/html": [
       "<div>\n",
       "<style scoped>\n",
       "    .dataframe tbody tr th:only-of-type {\n",
       "        vertical-align: middle;\n",
       "    }\n",
       "\n",
       "    .dataframe tbody tr th {\n",
       "        vertical-align: top;\n",
       "    }\n",
       "\n",
       "    .dataframe thead th {\n",
       "        text-align: right;\n",
       "    }\n",
       "</style>\n",
       "<table border=\"1\" class=\"dataframe\">\n",
       "  <thead>\n",
       "    <tr style=\"text-align: right;\">\n",
       "      <th></th>\n",
       "      <th>Nama</th>\n",
       "      <th>Tugas</th>\n",
       "      <th>UTS</th>\n",
       "      <th>UAS</th>\n",
       "      <th>Rata-Rata</th>\n",
       "    </tr>\n",
       "  </thead>\n",
       "  <tbody>\n",
       "    <tr>\n",
       "      <th>0</th>\n",
       "      <td>Berti</td>\n",
       "      <td>90</td>\n",
       "      <td>85</td>\n",
       "      <td>95</td>\n",
       "      <td>90.5</td>\n",
       "    </tr>\n",
       "    <tr>\n",
       "      <th>1</th>\n",
       "      <td>Qorygore</td>\n",
       "      <td>80</td>\n",
       "      <td>85</td>\n",
       "      <td>90</td>\n",
       "      <td>86.6</td>\n",
       "    </tr>\n",
       "    <tr>\n",
       "      <th>2</th>\n",
       "      <td>Bimo</td>\n",
       "      <td>70</td>\n",
       "      <td>75</td>\n",
       "      <td>80</td>\n",
       "      <td>78.5</td>\n",
       "    </tr>\n",
       "  </tbody>\n",
       "</table>\n",
       "</div>"
      ],
      "text/plain": [
       "       Nama  Tugas  UTS  UAS  Rata-Rata\n",
       "0     Berti     90   85   95       90.5\n",
       "1  Qorygore     80   85   90       86.6\n",
       "2      Bimo     70   75   80       78.5"
      ]
     },
     "execution_count": 2,
     "metadata": {},
     "output_type": "execute_result"
    }
   ],
   "source": [
    "# atau dengan Dictionary\n",
    "import pandas as pd\n",
    "nama = ['Berti', 'Qorygore', 'Bimo']\n",
    "tugas = [90,80,70]\n",
    "uts = [85,85,75]\n",
    "uas = [95,90,80]\n",
    "ratarata = [90.5,86.6,78.5]\n",
    "df2 = pd.DataFrame({'Nama':nama, 'Tugas':tugas, 'UTS':uts, 'UAS':uas, 'Rata-Rata':ratarata})\n",
    "df2"
   ]
  }
 ],
 "metadata": {
  "kernelspec": {
   "display_name": "env",
   "language": "python",
   "name": "python3"
  },
  "language_info": {
   "codemirror_mode": {
    "name": "ipython",
    "version": 3
   },
   "file_extension": ".py",
   "mimetype": "text/x-python",
   "name": "python",
   "nbconvert_exporter": "python",
   "pygments_lexer": "ipython3",
   "version": "3.11.2"
  },
  "orig_nbformat": 4
 },
 "nbformat": 4,
 "nbformat_minor": 2
}
