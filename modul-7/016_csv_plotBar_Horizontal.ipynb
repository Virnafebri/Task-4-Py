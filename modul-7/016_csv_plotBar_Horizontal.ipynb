{
 "cells": [
  {
   "cell_type": "code",
   "execution_count": null,
   "metadata": {},
   "outputs": [],
   "source": [
    "from matplotlib import pyplot as plt\n",
    "import numpy as np\n",
    "import csv\n",
    "from collections import Counter\n",
    "\n",
    "plt.style.use('fivethirtyeight')\n",
    "\n",
    "with open('penggunabahasapemrograman.csv') as csv_file:\n",
    "    csv_reader = csv.DictReader(csv_file)\n",
    "    \n",
    "\n",
    "    hitung = Counter()\n",
    "    for row in csv_reader:\n",
    "        hitung.update(row['JumlahPengguna'].split(';'))\n",
    "    bahasa = []\n",
    "    pengguna = []\n",
    "    \n",
    "    for item in hitung.most_common(15):\n",
    "        bahasa.append(item(0))\n",
    "        pengguna.append(item(0))\n",
    "    plt.barh(bahasa, pengguna)\n",
    "    \n",
    "    plt.title(\"Bahasa Pemrograman yang Paling Banyak Digunakan\")\n",
    "    plt.xlabel(\"Bahasa Pemrograman\")\n",
    "    plt.ylabel(\"Jumlah Pengguna\")\n",
    "    plt.show"
   ]
  }
 ],
 "metadata": {
  "language_info": {
   "name": "python"
  },
  "orig_nbformat": 4
 },
 "nbformat": 4,
 "nbformat_minor": 2
}
