{
 "cells": [
  {
   "cell_type": "code",
   "execution_count": null,
   "metadata": {},
   "outputs": [],
   "source": [
    "from matplotlib import pyplot as plt\n",
    "\n",
    "plt.style.use('fivethirtyeight')\n",
    "\n",
    "# slices digunakan untuk membagi pie menjadi beberapa bagian\n",
    "slices = [60, 40]\n",
    "label = ['Enam Puluh', 'Empat Puluh']\n",
    "warna = ['#E5AE37', '6D904F']\n",
    "plt.pie(slices, labels=label, colors=warna, wedgeprops={'edgecolor':'black'})\n",
    "plt.title(\"Contoh Pie Chart\")\n",
    "plt.tight_layout()\n",
    "plt.show()"
   ]
  }
 ],
 "metadata": {
  "language_info": {
   "name": "python"
  },
  "orig_nbformat": 4
 },
 "nbformat": 4,
 "nbformat_minor": 2
}
