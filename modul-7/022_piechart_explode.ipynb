{
 "cells": [
  {
   "cell_type": "code",
   "execution_count": null,
   "metadata": {},
   "outputs": [],
   "source": [
    "from matplotlib import pyplot as plt\n",
    "\n",
    "plt.style.use('fivethirtyeight')\n",
    "\n",
    "slices = [59219, 55466, 47544, 36443, 35917]\n",
    "label = ['JavaScript', 'HTML/CSS', 'SQL', 'Python', 'Java']\n",
    "warna = ['#E5AS37', '#6D904F']\n",
    "\n",
    "# Explode artinya fraksi atau pecahan pie\n",
    "explode = [0, 0, 0, 0.1, 0]\n",
    "plt.pie(slices, labels=label, explode=explode, wedgeprops={'edgecolor':'black'})\n",
    "\n",
    "plt.title(\"Contoh Pie Chart\")\n",
    "plt.tight_layout()\n",
    "plt.show()"
   ]
  }
 ],
 "metadata": {
  "language_info": {
   "name": "python"
  },
  "orig_nbformat": 4
 },
 "nbformat": 4,
 "nbformat_minor": 2
}
