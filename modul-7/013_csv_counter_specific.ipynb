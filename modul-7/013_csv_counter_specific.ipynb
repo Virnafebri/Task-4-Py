{
 "cells": [
  {
   "cell_type": "code",
   "execution_count": null,
   "metadata": {},
   "outputs": [],
   "source": [
    "from matplotlib import pyplot as plt\n",
    "import numpy as np\n",
    "import csv\n",
    "from collections import Counter\n",
    "\n",
    "plt.style.use('fivethirtyeight')\n",
    "\n",
    "with open('penggunabahasapemrograman.csv') as csv_file:\n",
    "    csv_reader = csv.DictReader(csv_file)\n",
    "    \n",
    "    # hitung semua jumlah pengguna\n",
    "    hitung = Counter()\n",
    "    for row in csv_reader:\n",
    "        hitung.update(row['JumlahPengguna'].split(';'))\n",
    "    \n",
    "    print(hitung.most_common(15))"
   ]
  }
 ],
 "metadata": {
  "language_info": {
   "name": "python"
  },
  "orig_nbformat": 4
 },
 "nbformat": 4,
 "nbformat_minor": 2
}
