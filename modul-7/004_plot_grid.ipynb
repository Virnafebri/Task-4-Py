{
 "cells": [
  {
   "cell_type": "code",
   "execution_count": null,
   "metadata": {},
   "outputs": [],
   "source": [
    "%matplotlib inline\n",
    "# %matplotlib notebook untuk jupyter server\n",
    "\n",
    "from matplotlib import pyplot as plt\n",
    "\n",
    "hari = [4,6,10,13,16,20,22,24,26,28,30]\n",
    "young_lex = [100,120,160,180,210,240,270,300,320,330,350]\n",
    "\n",
    "\n",
    "plt.plot(hari, young_lex, color='#444444', linestyle='--', marker='D')\n",
    "\n",
    "atta = [120,140,200,230,260,280,290,320,360,380,400]\n",
    "plt.plot(hari, atta, color='#5A7D9A', marker='.')\n",
    "\n",
    "plt.title('Kenaikan Subscriber Berdasarkan Hari')\n",
    "plt.xlabel('Hari')\n",
    "plt.ylabel('Jumlah Subscriber')\n",
    "\n",
    "plt.legend(['Young Lex', 'Atta Halilintar'])\n",
    "# grid untuk menampilkan layout grid (susunan vertikal dan horizontal)\n",
    "plt.grid(True)\n",
    "plt.show()"
   ]
  }
 ],
 "metadata": {
  "language_info": {
   "name": "python"
  },
  "orig_nbformat": 4
 },
 "nbformat": 4,
 "nbformat_minor": 2
}
